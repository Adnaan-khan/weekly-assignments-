{
  "cells": [
    {
      "cell_type": "markdown",
      "metadata": {
        "id": "view-in-github",
        "colab_type": "text"
      },
      "source": [
        "<a href=\"https://colab.research.google.com/github/Adnaan-khan/weekly-assignments-/blob/main/week06/week06_assignment_2.ipynb\" target=\"_parent\"><img src=\"https://colab.research.google.com/assets/colab-badge.svg\" alt=\"Open In Colab\"/></a>"
      ]
    },
    {
      "cell_type": "markdown",
      "metadata": {
        "nbgrader": {
          "grade": false,
          "grade_id": "intro",
          "locked": true,
          "schema_version": 1,
          "solution": false
        },
        "id": "PsEMbqdpd0VZ"
      },
      "source": [
        "# Week 6 Exercises\n",
        "\n",
        "_McKinney 6.1_\n",
        "\n",
        "There are multiple ways to solve the problems below.  You can use any one of several approaches.  For example, you can read CSV files using Pandas or the csv module.  Your score won't depend on which modules you choose to use unless explicitly noted below, but your programming style will still matter."
      ]
    },
    {
      "cell_type": "markdown",
      "metadata": {
        "nbgrader": {
          "grade": false,
          "grade_id": "q1-description",
          "locked": true,
          "schema_version": 1,
          "solution": false
        },
        "id": "saDjz88Ud0Vg"
      },
      "source": [
        "### 30.1 List of Allergies\n",
        "\n",
        "In the /data directory on the Jupyter server, there is a file called `allergies.json` that contains a list of patient allergies.  It is taken from sample data provided by the EHR vendor, Epic, here: https://open.epic.com/Clinical/Allergy\n",
        "\n",
        "Take some time to look at the structure of the file.  You can open it directly in Jupyter by clicking the _Home_ icon, then the _from_instructor_ folder, and then the _data_ folder.\n",
        "\n",
        "Within the file, you'll see that it is a dictionary with many items in it.  One of those items is called `entry` and that item is a list of things.  You can tell that because the item name is immediately followed by an opening square bracket, signifying the start of a list.  It's line 11 of the file: `  \"entry\": [`\n",
        "\n",
        "Write a function named `allergy_count(json_file)` that takes as one parameter the name of the JSON file and returns an integer number of entries in that file.  Your function should open the file, read the json into a Python object, and return how many items there are in the list of `entry`s."
      ]
    },
    {
      "cell_type": "code",
      "execution_count": 183,
      "metadata": {
        "id": "EpRwfFuCd0Vj"
      },
      "outputs": [],
      "source": [
        "import json\n",
        "ALLERGIES_FILE=\"allergies.json\""
      ]
    },
    {
      "cell_type": "code",
      "execution_count": 184,
      "metadata": {
        "nbgrader": {
          "grade": false,
          "grade_id": "q1-answer",
          "locked": false,
          "schema_version": 1,
          "solution": true
        },
        "id": "Lbz5D3U0d0Vp"
      },
      "outputs": [],
      "source": [
        "def allergy_count(json_file):\n",
        "  \"\"\"\n",
        "  Counts the number of allergies in the specified JSON file.\n",
        "\n",
        "  Parameter:\n",
        "      json_file (str): The path to the JSON file.\n",
        "\n",
        "  Returns:\n",
        "      int: The total number of entries in the 'entry' list.\n",
        "  example:\n",
        "  >>> allergy_count(ALLERGIES_FILE)\n",
        "  4\n",
        "\"\"\"\n",
        "\n",
        "  with open(json_file) as f: ### f = file\n",
        "        data = json.load(f)\n",
        "  return len(data[\"entry\"])"
      ]
    },
    {
      "cell_type": "code",
      "execution_count": 185,
      "metadata": {
        "colab": {
          "base_uri": "https://localhost:8080/"
        },
        "id": "6St22PBmd0Vq",
        "outputId": "8fa18e86-c65f-4c0b-862b-bbd32e9fd91b"
      },
      "outputs": [
        {
          "output_type": "execute_result",
          "data": {
            "text/plain": [
              "4"
            ]
          },
          "metadata": {},
          "execution_count": 185
        }
      ],
      "source": [
        "allergy_count(ALLERGIES_FILE)"
      ]
    },
    {
      "cell_type": "code",
      "execution_count": 186,
      "metadata": {
        "nbgrader": {
          "grade": true,
          "grade_id": "q1-tests",
          "locked": true,
          "points": 5,
          "schema_version": 1,
          "solution": false
        },
        "id": "19L8tdV1d0Vs"
      },
      "outputs": [],
      "source": [
        "assert type(allergy_count(ALLERGIES_FILE)) == int\n",
        "assert allergy_count(ALLERGIES_FILE) == 4"
      ]
    },
    {
      "cell_type": "code",
      "source": [
        "import doctest\n",
        "doctest.run_docstring_examples(allergy_count, globals(), verbose=True)"
      ],
      "metadata": {
        "colab": {
          "base_uri": "https://localhost:8080/"
        },
        "id": "JFDTfzibVe4Z",
        "outputId": "e2fbbc2c-2d36-409d-cb2b-40de3aeb7c49"
      },
      "execution_count": 187,
      "outputs": [
        {
          "output_type": "stream",
          "name": "stdout",
          "text": [
            "Finding tests in NoName\n",
            "Trying:\n",
            "    allergy_count(ALLERGIES_FILE)\n",
            "Expecting:\n",
            "    4\n",
            "ok\n"
          ]
        }
      ]
    },
    {
      "cell_type": "markdown",
      "metadata": {
        "id": "b-hGreCVd0Vt"
      },
      "source": [
        "### 30.2 Number of Patients\n",
        "\n",
        "If you dig a little bit deaper into this list of allergies, you'll see that each result has a patient associated with it.  Create a funcation called `patient_count(json_file)` that will count how many unique patients we have in this JSON structure.  "
      ]
    },
    {
      "cell_type": "code",
      "execution_count": 188,
      "metadata": {
        "id": "waI3-BzOd0Vw"
      },
      "outputs": [],
      "source": [
        "import json\n",
        "\"\"\"\n",
        "Counts the number of unique patients in the provided JSON file.\n",
        "\n",
        "This function reads a JSON file containing allergy data, extracts the patient information from each\n",
        "entry, and returns the count of unique patients. The patient's display name is used to determine uniqueness.\n",
        "\n",
        "Parameter:\n",
        "    json_file (str): The path to the JSON file containing allergy data.\n",
        "\n",
        "Returns:\n",
        "    int: The number of unique patients represented in the JSON file.\n",
        "\n",
        "Example:\n",
        ">>> patient_count(\"allergies.json\")\n",
        "2\n",
        "\"\"\"\n",
        "ALLERGIES_FILE=\"allergies.json\"\n",
        "def patient_count(json_file):\n",
        "    with open(json_file) as f:  ### (f = File)\n",
        "        data = json.load(f)\n",
        "        ### Patient Count\n",
        "        unique_patients = {entry[\"resource\"][\"patient\"][\"display\"]\n",
        "                           for entry in data [\"entry\"]\n",
        "                           if entry.get(\"resource\") and entry[\"resource\"].get(\"patient\")}\n",
        "        return len(unique_patients)\n",
        "        count = patient_count(ALLERGIES_FILE)\n",
        "        print(count)\n",
        "\n",
        "\n",
        "\n",
        "\n"
      ]
    },
    {
      "cell_type": "code",
      "execution_count": 189,
      "metadata": {
        "colab": {
          "base_uri": "https://localhost:8080/"
        },
        "id": "cAnLx-mZd0Vx",
        "outputId": "cb1b4144-1c0e-42e3-b441-6d27ad8a480a"
      },
      "outputs": [
        {
          "output_type": "execute_result",
          "data": {
            "text/plain": [
              "2"
            ]
          },
          "metadata": {},
          "execution_count": 189
        }
      ],
      "source": [
        "patient_count(ALLERGIES_FILE)"
      ]
    },
    {
      "cell_type": "code",
      "execution_count": 190,
      "metadata": {
        "id": "OC6VbHMAd0V3"
      },
      "outputs": [],
      "source": [
        "assert type(patient_count(ALLERGIES_FILE)) == int\n",
        "assert patient_count(ALLERGIES_FILE) == 2"
      ]
    },
    {
      "cell_type": "code",
      "source": [
        "import doctest\n",
        "doctest.run_docstring_examples(patient_count, globals(), verbose=True)"
      ],
      "metadata": {
        "colab": {
          "base_uri": "https://localhost:8080/"
        },
        "id": "9GpZikyWVmEc",
        "outputId": "1b5d83e7-59a2-42be-9904-49cea5d3c379"
      },
      "execution_count": 191,
      "outputs": [
        {
          "output_type": "stream",
          "name": "stdout",
          "text": [
            "Finding tests in NoName\n"
          ]
        }
      ]
    },
    {
      "cell_type": "markdown",
      "metadata": {
        "id": "f3ugNX2kd0V4"
      },
      "source": [
        "### 30.3 How Many Allergies per Patient\n",
        "\n",
        "Although each entry is a separate allergy, several of them are for the same patient.  Write a function called `allergy_per_patient(json_file)` that counts up how many allergies each patient has.\n"
      ]
    },
    {
      "cell_type": "code",
      "execution_count": 192,
      "metadata": {
        "id": "1eJIfYnWd0V7"
      },
      "outputs": [],
      "source": [
        "import json\n",
        "\n",
        "ALLERGIES_FILE = \"allergies.json\"\n",
        "\n",
        "def allergy_per_patient(json_file):\n",
        "  \"\"\"\n",
        "Counts the number of allergies for each patient in the specified JSON file.\n",
        "\n",
        "Parameters:\n",
        "      json_file (str): The path to the JSON file.\n",
        "\n",
        "Returns:\n",
        "      Patient allergy count : A dictionary where keys are patient names and values are the number of allergies they have.\n",
        "test:\n",
        ">>> allergy_per_patient(ALLERGIES_FILE)\n",
        "{'Jason Argonaut': 3, 'Paul Boal': 1}\n",
        "    \"\"\"\n",
        "  with open(json_file) as f:  ### (f = File)\n",
        "        data = json.load(f)\n",
        "        entries = data['entry']\n",
        "\n",
        "        # Gathering all patient displays\n",
        "        patient_display = [entry['resource']['patient']['display'] for entry in entries]\n",
        "\n",
        "        # Calculating allergies per patient by using a dictionary\n",
        "        patient_allergy_count = {patient: patient_display.count(patient) for patient in set(patient_display)}\n",
        "\n",
        "        return patient_allergy_count\n",
        "\n",
        "        count = allergy_per_patient(ALLERGIES_FILE)\n",
        "        print(count)\n",
        "\n"
      ]
    },
    {
      "cell_type": "code",
      "execution_count": 193,
      "metadata": {
        "colab": {
          "base_uri": "https://localhost:8080/"
        },
        "id": "bWHJ_nV9d0V8",
        "outputId": "52296f6d-62b8-481a-8906-d08f52db5e54"
      },
      "outputs": [
        {
          "output_type": "execute_result",
          "data": {
            "text/plain": [
              "{'Jason Argonaut': 3, 'Paul Boal': 1}"
            ]
          },
          "metadata": {},
          "execution_count": 193
        }
      ],
      "source": [
        "allergy_per_patient(ALLERGIES_FILE)"
      ]
    },
    {
      "cell_type": "code",
      "execution_count": 194,
      "metadata": {
        "id": "l-JVnarpd0V-"
      },
      "outputs": [],
      "source": [
        "assert type(allergy_per_patient(ALLERGIES_FILE)) == dict\n",
        "assert allergy_per_patient(ALLERGIES_FILE) == {'Paul Boal': 1, 'Jason Argonaut': 3}"
      ]
    },
    {
      "cell_type": "code",
      "source": [
        "import doctest\n",
        "doctest.run_docstring_examples(allergy_per_patient, globals(), verbose=True)"
      ],
      "metadata": {
        "colab": {
          "base_uri": "https://localhost:8080/"
        },
        "id": "Ocvp4QZ7UxY_",
        "outputId": "39967a0f-c82e-494c-eb0c-3e6e4c2dcf41"
      },
      "execution_count": 195,
      "outputs": [
        {
          "output_type": "stream",
          "name": "stdout",
          "text": [
            "Finding tests in NoName\n",
            "Trying:\n",
            "    allergy_per_patient(ALLERGIES_FILE)\n",
            "Expecting:\n",
            "    {'Jason Argonaut': 3, 'Paul Boal': 1}\n",
            "ok\n"
          ]
        }
      ]
    },
    {
      "cell_type": "markdown",
      "metadata": {
        "nbgrader": {
          "grade": false,
          "grade_id": "q2-question",
          "locked": true,
          "schema_version": 1,
          "solution": false
        },
        "id": "yNvNYkK8d0V_"
      },
      "source": [
        "### 30.4 Patient Allergies and Reaction\n",
        "\n",
        "You'll see in the file that each of the items in the `entry` list have several other attributes including a patient name, substance text representation, and a reaction manifestation.  Create a function named `allergy_list(json_file)` that will create an output list that has patient name, allergy, and reaction for each `entry`.  The actual result you should get will be:\n",
        "\n",
        "```python\n",
        "[['Jason Argonaut', 'PENICILLIN G', 'Hives'],\n",
        " ['Paul Boal', 'PENICILLIN G', 'Bruising'],\n",
        " ['Jason Argonaut', 'SHELLFISH-DERIVED PRODUCTS', 'Itching'],\n",
        " ['Jason Argonaut', 'STRAWBERRY', 'Anaphylaxis']]\n",
        "```\n",
        "\n",
        "You'll notice that the reaction and the manifestation of that action are lists.  You only need to capture the first reaction and the first manifestation of the action.  That is, if there is a list of things, just output the first one."
      ]
    },
    {
      "cell_type": "code",
      "execution_count": 196,
      "metadata": {
        "nbgrader": {
          "grade": false,
          "grade_id": "q2-answer",
          "locked": false,
          "schema_version": 1,
          "solution": true
        },
        "id": "2Rcv3uimd0WA"
      },
      "outputs": [],
      "source": [
        "import json\n",
        "def allergy_list(json_file):\n",
        "  \"\"\"\n",
        "    generate a list of allergies and their reactions for each patient from the specified JSON file.\n",
        "\n",
        "    Parameters:\n",
        "        json_file (str): The path to the JSON FILE\n",
        "\n",
        "Returns:\n",
        "        list: A list of allergy, where each inner list contains the patient name, allergy substance,\n",
        "              and reaction manifestation for each allergy entry.\n",
        "\n",
        "\n",
        "test:\n",
        ">>> allergy_list(ALLERGIES_FILE)\n",
        "[['Jason Argonaut', 'PENICILLIN G', 'Hives'], ['Jason Argonaut', 'SHELLFISH-DERIVED PRODUCTS', 'Itching'], ['Jason Argonaut', 'STRAWBERRY', 'Anaphylaxis'], ['Paul Boal', 'PENICILLIN G', 'Bruising']]\n",
        "\n",
        "\n",
        "    \"\"\"\n",
        "  with open(json_file) as f:  ### (f = File)\n",
        "        data = json.load(f)\n",
        "        entries = data[\"entry\"]\n",
        "\n",
        "        allergy_list = []\n",
        "        for entry in entries:\n",
        "            allergy_list.append([\n",
        "                entry.get('resource', {}).get('patient', {}).get('display'),\n",
        "                entry.get('resource', {}).get('substance', {}).get('text'),\n",
        "                entry.get('resource', {}).get('reaction', [{}])[0].get('manifestation', [{}])[0].get('text')\n",
        "            ])\n",
        "        allergy_list.sort()\n",
        "        return allergy_list\n",
        "\n",
        "\n",
        "\n",
        "\n",
        "\n"
      ]
    },
    {
      "cell_type": "code",
      "execution_count": 197,
      "metadata": {
        "colab": {
          "base_uri": "https://localhost:8080/"
        },
        "id": "ZPsqRxUkd0WA",
        "outputId": "a0b075cc-2331-4d60-9606-25c8b356a334"
      },
      "outputs": [
        {
          "output_type": "execute_result",
          "data": {
            "text/plain": [
              "[['Jason Argonaut', 'PENICILLIN G', 'Hives'],\n",
              " ['Jason Argonaut', 'SHELLFISH-DERIVED PRODUCTS', 'Itching'],\n",
              " ['Jason Argonaut', 'STRAWBERRY', 'Anaphylaxis'],\n",
              " ['Paul Boal', 'PENICILLIN G', 'Bruising']]"
            ]
          },
          "metadata": {},
          "execution_count": 197
        }
      ],
      "source": [
        "allergy_list(ALLERGIES_FILE)"
      ]
    },
    {
      "cell_type": "code",
      "execution_count": 198,
      "metadata": {
        "nbgrader": {
          "grade": true,
          "grade_id": "q2-tests",
          "locked": true,
          "points": 10,
          "schema_version": 1,
          "solution": false
        },
        "id": "HMrefYJnd0WB"
      },
      "outputs": [],
      "source": [
        "assert allergy_list(ALLERGIES_FILE) == [['Jason Argonaut', 'PENICILLIN G', 'Hives'],\n",
        " ['Jason Argonaut', 'SHELLFISH-DERIVED PRODUCTS', 'Itching'],\n",
        " ['Jason Argonaut', 'STRAWBERRY', 'Anaphylaxis'],\n",
        " ['Paul Boal', 'PENICILLIN G', 'Bruising']]\n",
        "\n"
      ]
    },
    {
      "cell_type": "code",
      "source": [
        "doctest.run_docstring_examples(allergy_list, globals(), verbose=True)"
      ],
      "metadata": {
        "colab": {
          "base_uri": "https://localhost:8080/"
        },
        "id": "oAYDi_VJWKBn",
        "outputId": "53b719ad-6ac5-46f5-8339-027aa2848b55"
      },
      "execution_count": 199,
      "outputs": [
        {
          "output_type": "stream",
          "name": "stdout",
          "text": [
            "Finding tests in NoName\n",
            "Trying:\n",
            "    allergy_list(ALLERGIES_FILE)\n",
            "Expecting:\n",
            "    [['Jason Argonaut', 'PENICILLIN G', 'Hives'], ['Jason Argonaut', 'SHELLFISH-DERIVED PRODUCTS', 'Itching'], ['Jason Argonaut', 'STRAWBERRY', 'Anaphylaxis'], ['Paul Boal', 'PENICILLIN G', 'Bruising']]\n",
            "ok\n"
          ]
        }
      ]
    },
    {
      "cell_type": "markdown",
      "metadata": {
        "nbgrader": {
          "grade": false,
          "grade_id": "q3-question",
          "locked": true,
          "schema_version": 1,
          "solution": false
        },
        "id": "yxud0e_Od0WB"
      },
      "source": [
        "### 30.5 Allergy Reaction\n",
        "\n",
        "Write a function called `allergy_reaction(json_file,patient,substance)` that takes three parameter and returns the reaction that will happen if the patient takes the specified substance.  You can solve this, in part, by calling your `allergy_list` function inside your new `allergy_reaction` function.\n",
        "\n",
        "If the substance is not found in the allergy list, the function should return None."
      ]
    },
    {
      "cell_type": "code",
      "execution_count": 200,
      "metadata": {
        "nbgrader": {
          "grade": false,
          "grade_id": "q3-answer",
          "locked": false,
          "schema_version": 1,
          "solution": true
        },
        "id": "GKVnuZGxd0WF"
      },
      "outputs": [],
      "source": [
        "import json\n",
        "\n",
        "def allergy_reaction(json_file, patient, diagnosis):\n",
        "  \"\"\"\n",
        "     Retrieves the allergic reaction for a specific patient and diagnosis from the JSON file.\n",
        "\n",
        "     Parameters:\n",
        "     json_file (str): The path to the JSON file.\n",
        "     patient (str): The name of the patient.\n",
        "     diagnosis (str): The diagnosis or medication related to allergic reaction.\n",
        "\n",
        "     Returns:\n",
        "     str or None: The allergic reaction if found; otherwise, returns None.\n",
        "\n",
        "     example:\n",
        "     >>> allergy_reaction(ALLERGIES_FILE, 'Jason Argonaut', 'PENICILLIN G')\n",
        "     'Hives'\n",
        "     >>> allergy_reaction(ALLERGIES_FILE, 'Jason Argonaut', 'SHELLFISH-DERIVED PRODUCTS')\n",
        "     'Itching'\n",
        "     >>> allergy_reaction(ALLERGIES_FILE, 'Jason Argonaut', 'STRAWBERRY')\n",
        "     'Anaphylaxis'\n",
        "     >>> allergy_reaction(ALLERGIES_FILE, 'Jason Argonaut', 'PENICILLIN')\n",
        "     >>> allergy_reaction(ALLERGIES_FILE, 'Paul Boal', 'PENICILLIN G')\n",
        "     'Bruising'\n",
        "  \"\"\"\n",
        "  with open(json_file) as f:  ### (f = File)\n",
        "      data = json.load(f)\n",
        "      entries = data[\"entry\"]\n",
        "\n",
        "      allergy_reaction = {}\n",
        "\n",
        "      for entry in entries:\n",
        "        patient_name = entry.get('resource').get('patient').get('display');\n",
        "        medicine = entry.get('resource').get('substance').get('text');\n",
        "        reaction = entry.get('resource').get('reaction')[0].get('manifestation')[0].get('text');\n",
        "\n",
        "        allergy_reaction.update({patient_name + medicine: reaction})\n",
        "\n",
        "      key = patient+diagnosis\n",
        "\n",
        "\n",
        "  return allergy_reaction.get(key,None)\n",
        "\n",
        "\n",
        "\n",
        "\n"
      ]
    },
    {
      "cell_type": "code",
      "execution_count": 201,
      "metadata": {
        "colab": {
          "base_uri": "https://localhost:8080/",
          "height": 35
        },
        "id": "ob_kFQlbd0WF",
        "outputId": "94afa11a-3469-4797-ed4b-fdda9bdb4f21"
      },
      "outputs": [
        {
          "output_type": "execute_result",
          "data": {
            "text/plain": [
              "'Hives'"
            ],
            "application/vnd.google.colaboratory.intrinsic+json": {
              "type": "string"
            }
          },
          "metadata": {},
          "execution_count": 201
        }
      ],
      "source": [
        "allergy_reaction(ALLERGIES_FILE, 'Jason Argonaut', 'PENICILLIN G')"
      ]
    },
    {
      "cell_type": "code",
      "execution_count": 202,
      "metadata": {
        "nbgrader": {
          "grade": true,
          "grade_id": "q3-tests",
          "locked": true,
          "points": 5,
          "schema_version": 1,
          "solution": false
        },
        "id": "XG4HF0xvd0WG"
      },
      "outputs": [],
      "source": [
        "assert allergy_reaction(ALLERGIES_FILE, 'Jason Argonaut', 'PENICILLIN G') == 'Hives'\n",
        "assert allergy_reaction(ALLERGIES_FILE, 'Jason Argonaut', 'SHELLFISH-DERIVED PRODUCTS') == 'Itching'\n",
        "assert allergy_reaction(ALLERGIES_FILE, 'Jason Argonaut', 'STRAWBERRY') == 'Anaphylaxis'\n",
        "assert allergy_reaction(ALLERGIES_FILE, 'Jason Argonaut', 'PENICILLIN') == None\n",
        "assert allergy_reaction(ALLERGIES_FILE, 'Paul Boal', 'PENICILLIN G') == 'Bruising'"
      ]
    },
    {
      "cell_type": "code",
      "source": [
        "doctest.run_docstring_examples(allergy_reaction, globals(), verbose=True)"
      ],
      "metadata": {
        "colab": {
          "base_uri": "https://localhost:8080/"
        },
        "id": "QQEqNqkhbj5s",
        "outputId": "9d0a0230-ebce-4211-eeba-a87f0d77475b"
      },
      "execution_count": 182,
      "outputs": [
        {
          "output_type": "stream",
          "name": "stdout",
          "text": [
            "Finding tests in NoName\n",
            "Trying:\n",
            "    allergy_reaction(ALLERGIES_FILE, 'Jason Argonaut', 'PENICILLIN G')\n",
            "Expecting:\n",
            "    'Hives'\n",
            "ok\n",
            "Trying:\n",
            "    allergy_reaction(ALLERGIES_FILE, 'Jason Argonaut', 'SHELLFISH-DERIVED PRODUCTS')\n",
            "Expecting:\n",
            "    'Itching'\n",
            "ok\n",
            "Trying:\n",
            "    allergy_reaction(ALLERGIES_FILE, 'Jason Argonaut', 'STRAWBERRY')\n",
            "Expecting:\n",
            "    'Anaphylaxis'\n",
            "ok\n",
            "Trying:\n",
            "    allergy_reaction(ALLERGIES_FILE, 'Jason Argonaut', 'PENICILLIN')\n",
            "Expecting nothing\n",
            "ok\n",
            "Trying:\n",
            "    allergy_reaction(ALLERGIES_FILE, 'Paul Boal', 'PENICILLIN G')\n",
            "Expecting:\n",
            "    'Bruising'\n",
            "ok\n"
          ]
        }
      ]
    },
    {
      "cell_type": "markdown",
      "metadata": {
        "id": "jWve_Rx7d0WH"
      },
      "source": [
        "---\n",
        "\n",
        "## Check your work above\n",
        "\n",
        "If you didn't get them all correct, take a few minutes to think through those that aren't correct.\n",
        "\n",
        "\n",
        "## Submitting Your Work\n",
        "\n",
        "In order to submit your work, you'll need to save this notebook file back to GitHub.  To do that in Google Colab:\n",
        "1. File -> Save a Copy in GitHub\n",
        "2. Make sure your HDS5210 repository is selected\n",
        "3. Make sure the file name includes the week number like this: `week06/week06_assignment_2.ipynb`\n",
        "4. Add a commit message that means something\n",
        "\n",
        "**Be sure week names are lowercase and use a two digit week number!!**\n",
        "\n",
        "**Be sure you use the same file name provided by the instructor!!**\n",
        "\n"
      ]
    }
  ],
  "metadata": {
    "celltoolbar": "Create Assignment",
    "kernelspec": {
      "display_name": "Python 3",
      "language": "python",
      "name": "python3"
    },
    "language_info": {
      "codemirror_mode": {
        "name": "ipython",
        "version": 3
      },
      "file_extension": ".py",
      "mimetype": "text/x-python",
      "name": "python",
      "nbconvert_exporter": "python",
      "pygments_lexer": "ipython3",
      "version": "3.9.16"
    },
    "colab": {
      "provenance": [],
      "include_colab_link": true
    }
  },
  "nbformat": 4,
  "nbformat_minor": 0
}