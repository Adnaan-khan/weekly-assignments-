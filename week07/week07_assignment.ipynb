{
  "cells": [
    {
      "cell_type": "markdown",
      "metadata": {
        "id": "view-in-github",
        "colab_type": "text"
      },
      "source": [
        "<a href=\"https://colab.research.google.com/github/Adnaan-khan/weekly-assignments-/blob/main/week07/week07_assignment.ipynb\" target=\"_parent\"><img src=\"https://colab.research.google.com/assets/colab-badge.svg\" alt=\"Open In Colab\"/></a>"
      ]
    },
    {
      "cell_type": "markdown",
      "metadata": {
        "id": "nsTdg8mb4C8L"
      },
      "source": [
        "# Week 7 Assignment\n",
        "\n",
        "We've been working with different types of data structures in Python (dictionary, list, etc), how those are represented in JSON documents, and how to write code to access specific data elements. In this week's assignment, you will need to create your own JSON document to store information about yourself and the grades you've received from week 1 to week 4 and the week 6 quiz.  That is, everything you should have received a grade for.  Then you'll need to show me you know how to navigate the JSON in that file.\n",
        "\n",
        "Different from what we've done in the past, you do not have to write any functions or include any docstrings.  Just create some JSON and write some code.\n",
        "\n",
        "---"
      ]
    },
    {
      "cell_type": "markdown",
      "metadata": {
        "id": "5WDtYo6u4C8O"
      },
      "source": [
        "## 7.1 Create a JSON file\n",
        "\n",
        "Create a JSON file that contains your name, email, year you were born, all of the grades you've received back so far, and a comment about what you thought was most challenging on each of those assignments.  This can be any structure you choose, but make sure it uses a dictionary and a list, and has at least two levels of hierarchy.  That is, it can't just be one big long list."
      ]
    },
    {
      "cell_type": "markdown",
      "source": [],
      "metadata": {
        "id": "q2HijaZQ6Y7J"
      }
    },
    {
      "cell_type": "markdown",
      "metadata": {
        "id": "dYIJBbkk4C8P"
      },
      "source": []
    },
    {
      "cell_type": "markdown",
      "metadata": {
        "id": "LQ2_mOje4C8Q"
      },
      "source": [
        "* This Json file contains personal information including my name, email address and age and place of birth organised under a dictionary labeled \"**personal_info**'.\"This section gives a cleature picture of who am i .Additionally, the file includes a list titled \"**My bestfriends**\",\"**Places visited in india**\",\"**My favourite cricketer**\" and comparision of best players and \"**weekly grades**\" with weekly scores and with my personal point of view for each week For example : the comments detail specific difficulties I faced, such as issues with indentation in programming or challenges in grasping data structures like tuples and dictionaries.  \n"
      ]
    },
    {
      "cell_type": "markdown",
      "metadata": {
        "id": "lRGXcvtM4C8Q"
      },
      "source": [
        "Then put the actual JSON you've created inside the multiline string below..."
      ]
    },
    {
      "cell_type": "code",
      "execution_count": 79,
      "metadata": {
        "id": "gsUwnb1I4C8Q"
      },
      "outputs": [],
      "source": [
        "hds5210 = \"\"\"\n",
        "{\n",
        "    \"personal_info\": {\n",
        "        \"name\": \"Mohd Adnaan Khan\",\n",
        "        \"email\": \"mohdadnaankhan@slu.edu\",\n",
        "        \"year_of_birth\": 1997,\n",
        "        \"birth_place\": \"India\"\n",
        "    },\n",
        "    \"best_friends\": [\n",
        "        {\n",
        "            \"name\": \"faraz\",\n",
        "            \"year\": 2004\n",
        "        },\n",
        "        {\n",
        "            \"name\": \"salman\",\n",
        "            \"year\": 2005\n",
        "        },\n",
        "        {\n",
        "            \"name\": \"nada\",\n",
        "            \"year\": 2012\n",
        "\n",
        "        },\n",
        "        {\n",
        "            \"name\": \"faisal\",\n",
        "            \"year\": 2018\n",
        "        }\n",
        "    ],\n",
        "    \"places visited in india\": {\n",
        "        \"Hyderabad\": \"jalvihar\",\n",
        "        \"Andhra Pardesh\": \"Chirala beach\",\n",
        "        \"Goa\": \"Margao\",\n",
        "        \"Banglore\": \"Chinnaswamy Stadium\"\n",
        "    },\n",
        "    \"My favourite Cricketers\": [\n",
        "        {\n",
        "            \"name\": \"Gayle\"\n",
        "        },\n",
        "        {\n",
        "            \"name\": \"Dhoni\"\n",
        "        },\n",
        "        {\n",
        "            \"name\": \"Bravo\"\n",
        "        },\n",
        "        {\n",
        "            \"name\": \"Rohit\"\n",
        "        }\n",
        "    ],\n",
        "    \"grades\": {\n",
        "        \"week1\": {\n",
        "            \"score\": 10,\n",
        "            \"comment\": \"I find it easy because it was just to setup make logins\"\n",
        "        },\n",
        "        \"week2\": {\n",
        "            \"score\": 10,\n",
        "            \"comment\": \"It was not that difficult i just face difficulties in indentation and syntax\"\n",
        "        },\n",
        "        \"week3\": {\n",
        "            \"score\": 10,\n",
        "            \"comment\": \"It was moderate i was stuck at a point where I have to create a set of lists\"\n",
        "        },\n",
        "        \"week4\": {\n",
        "            \"score\": 10,\n",
        "            \"comment\": \" It was difficult to understand tulip and dictionary and making function of it \"\n",
        "        }\n",
        "    }\n",
        "}\n",
        "\"\"\""
      ]
    },
    {
      "cell_type": "markdown",
      "metadata": {
        "id": "NnwoWrcJ4C8R"
      },
      "source": [
        "## 7.2 Do something with your JSON\n",
        "\n",
        "Now use Python code to do something with the Json above.  Turn it into English text, but make sure that you use at least one loop to access some dict or list content of your JSON.  Below, I've provided some basic code to read in the string above as JSON and return a Python object.  Your job is to work with that data structure and print out the important information like your name, email, and how you did on each assignment."
      ]
    },
    {
      "cell_type": "code",
      "execution_count": 80,
      "metadata": {
        "colab": {
          "base_uri": "https://localhost:8080/"
        },
        "id": "z9JknvkB4C8R",
        "outputId": "1b765eb7-6cb8-4ff2-ef13-ec573774c8c4"
      },
      "outputs": [
        {
          "output_type": "stream",
          "name": "stdout",
          "text": [
            "My name is Mohd Adnaan Khan, I was born in 1997 in India. You can reach me at mohdadnaankhan@slu.edu.\n",
            "My best friends are faraz, salman, nada, faisal.\n",
            "I have visited places like Hyderabad, Andhra Pardesh, Goa, Banglore in India.\n",
            "Comparison of my favorite cricketers:\n",
            "Gayle and Dhoni are my top two favorite cricketers, but in my opinion, Gayle is the best batsman with his explosive batting style and ability to score quick runs, as he scored the fastest century within 50 balls.\n",
            "I inspired by cricketers like Gayle, Dhoni, Bravo, Rohit because of their not giving up quality.\n",
            "Regarding my grades, I did well: week1: Score 10 - I find it easy because it was just to setup make logins, week2: Score 10 - It was not that difficult i just face difficulties in indentation and syntax, week3: Score 10 - It was moderate i was stuck at a point where I have to create a set of lists, week4: Score 10 -  It was difficult to understand tulip and dictionary and making function of it .\n",
            "Thank you for reading about me! :) \n"
          ]
        }
      ],
      "source": [
        "import json\n",
        "info = json.loads(hds5210)\n",
        "\n",
        "# Personal information\n",
        "name = info['personal_info']['name']\n",
        "email = info['personal_info']['email']\n",
        "year_of_birth = info['personal_info']['year_of_birth']\n",
        "birth_place = info['personal_info']['birth_place']\n",
        "\n",
        "# Best friends\n",
        "best_friends = [friend['name'] for friend in info['best_friends']]\n",
        "\n",
        "# Places visited in India\n",
        "places_visited = ', '.join(info['places visited in india'].keys())\n",
        "\n",
        "# Favorite cricketers\n",
        "favorite_cricketers = [cricketer['name'] for cricketer in info['My favourite Cricketers']]\n",
        "\n",
        "# Weekly Grades\n",
        "grades_summary = []\n",
        "for week, grade in info[\"grades\"].items():\n",
        "    grades_summary.append(f\"{week}: Score {grade['score']} - {grade['comment']}\")\n",
        "\n",
        "### Making my data :)\n",
        "print(f\"My name is {name}, I was born in {year_of_birth} in {birth_place}. You can reach me at {email}.\")\n",
        "print(f\"My best friends are {', '.join(best_friends)}.\")\n",
        "print(f\"I have visited places like {places_visited} in India.\")\n",
        "print(\"Comparison of my favorite cricketers:\")\n",
        "if \"Gayle\" in favorite_cricketers and \"Dhoni\" in favorite_cricketers:\n",
        "    print(\"Gayle and Dhoni are my top two favorite cricketers, but in my opinion, Gayle is the best batsman with his explosive batting style and ability to score quick runs, as he scored the fastest century within 50 balls.\")\n",
        "print(f\"I inspired by cricketers like {', '.join(favorite_cricketers)} because of their not giving up quality.\")\n",
        "print(f\"Regarding my grades, I did well: {', '.join(grades_summary)}.\")\n",
        "\n",
        "# Thank you message\n",
        "print(\"Thank you for reading about me! :) \")\n",
        "\n",
        "\n",
        "\n",
        "\n",
        "\n",
        "\n",
        "\n",
        "\n",
        "\n",
        "\n",
        "\n",
        "\n",
        "\n",
        "\n"
      ]
    },
    {
      "cell_type": "markdown",
      "metadata": {
        "id": "hmcy4UmI4C8S"
      },
      "source": [
        "## 7.3 Reflect\n",
        "\n",
        "Write a paragraph on any reflections you have. Was this hard? Easy?  What parts were most challenging or easiest? What did you like or dislike about the assignment?  Share whatever important thoughts you have abou this assignment."
      ]
    },
    {
      "cell_type": "markdown",
      "metadata": {
        "id": "kYwjHpIl4C8S"
      },
      "source": [
        "I found this assignment to be a mix of challenging and fun.Creating the Json file which includes my own personal ideas was really good, but organizing my thoughts and personal information required careful consideration. The most challenging part was to ensure that the data was well structured.Overall, I liked how this assignment combined coding with some information to give output."
      ]
    },
    {
      "cell_type": "markdown",
      "metadata": {
        "id": "5HZ-o80A4C8S"
      },
      "source": [
        "---\n",
        "\n",
        "# Example\n",
        "\n",
        "Below is an example of something similar, but this uses information my and my friend's kids instead of grades."
      ]
    },
    {
      "cell_type": "code",
      "execution_count": 54,
      "metadata": {
        "colab": {
          "base_uri": "https://localhost:8080/"
        },
        "id": "V8Jsr_nr4C8T",
        "outputId": "3be39ac7-a7eb-4305-d5cd-b6c4b0163469"
      },
      "outputs": [
        {
          "output_type": "stream",
          "name": "stdout",
          "text": [
            "Hi, my name is Paul. I've got 3 kids. Their names are Ellie, Ada, Teddy.\n",
            "My friend, Anny has 1 kids. That's fewer than me. Their names are 1\n"
          ]
        }
      ],
      "source": [
        "hds5210 = \"\"\"\n",
        "{\n",
        "    \"me\": {\n",
        "        \"name\": \"Paul\",\n",
        "        \"kids\": [\"Ellie\", \"Ada\", \"Teddy\"]\n",
        "    },\n",
        "    \"friend\": {\n",
        "        \"name\": \"Anny\",\n",
        "        \"kids\": [\"Abby\"]\n",
        "    }\n",
        "}\n",
        "\"\"\"\n",
        "\n",
        "import json\n",
        "\n",
        "info = json.loads(hds5210)\n",
        "\n",
        "me = info[\"me\"][\"name\"]\n",
        "my_kids_count = len(info[\"me\"][\"kids\"])\n",
        "kids_list = \", \".join(info[\"me\"][\"kids\"])\n",
        "friend = info[\"friend\"][\"name\"]\n",
        "friends_kid_count = len(info[\"friend\"][\"kids\"])\n",
        "friend_kids = \", \".join(info[\"friend\"][\"kids\"])\n",
        "compare = \"more\" if friends_kid_count > my_kids_count else \"fewer\"\n",
        "\n",
        "print(f\"Hi, my name is {me}. I've got {my_kids_count} kids. Their names are {kids_list}.\")\n",
        "print(f\"My friend, {friend} has {friends_kid_count} kids. That's {compare} than me. Their names are {friends_kid_count}\")"
      ]
    }
  ],
  "metadata": {
    "kernelspec": {
      "display_name": "Python 3",
      "language": "python",
      "name": "python3"
    },
    "language_info": {
      "codemirror_mode": {
        "name": "ipython",
        "version": 3
      },
      "file_extension": ".py",
      "mimetype": "text/x-python",
      "name": "python",
      "nbconvert_exporter": "python",
      "pygments_lexer": "ipython3",
      "version": "3.9.16"
    },
    "colab": {
      "provenance": [],
      "include_colab_link": true
    }
  },
  "nbformat": 4,
  "nbformat_minor": 0
}